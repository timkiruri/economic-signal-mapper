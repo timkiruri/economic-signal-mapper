{
 "cells": [
  {
   "cell_type": "markdown",
   "metadata": {},
   "source": [
    "# Sourcing the Wheat Price Data\n",
    "In this notebook, we will be sourcing the wheat price data from the IMF api."
   ]
  },
  {
   "cell_type": "code",
   "execution_count": 2,
   "metadata": {},
   "outputs": [],
   "source": [
    "# Importing the necessary libraries\n",
    "import sdmx"
   ]
  },
  {
   "cell_type": "code",
   "execution_count": 3,
   "metadata": {},
   "outputs": [
    {
     "name": "stderr",
     "output_type": "stream",
     "text": [
      "xml.Reader got no structure=… argument for StructureSpecificData\n"
     ]
    },
    {
     "data": {
      "text/plain": [
       "COUNTRY  INDEX_TYPE  COICOP_1999  TYPE_OF_TRANSFORMATION  FREQUENCY  COMMON_REFERENCE_PERIOD  OVERLAP  SCALE  ACCESS_SHARING_LEVEL  SECURITY_CLASSIFICATION  TIME_PERIOD\n",
       "CAN      CPI         CP01         IX                      M          2002A                    OL       0      PUBLIC_OPEN           PUB                      2018-M01       142.6\n",
       "                                                                                                                                                             2018-M02       142.3\n",
       "                                                                                                                                                             2018-M03       141.3\n",
       "                                                                                                                                                             2018-M04       141.9\n",
       "                                                                                                                                                             2018-M05       141.4\n",
       "Name: value, dtype: float64"
      ]
     },
     "execution_count": 3,
     "metadata": {},
     "output_type": "execute_result"
    }
   ],
   "source": [
    "# Retrieving test data\n",
    "IMF_DATA = sdmx.Client('IMF_DATA')\n",
    "data_msg = IMF_DATA.data('CPI', key = 'USA+CAN.CPI.CP01.IX.M', params = {'startPeriod' : 2018})\n",
    "\n",
    "# To pandas\n",
    "cpi_df = sdmx.to_pandas(data_msg)\n",
    "\n",
    "# Preview\n",
    "cpi_df.head()"
   ]
  },
  {
   "cell_type": "code",
   "execution_count": 4,
   "metadata": {},
   "outputs": [
    {
     "data": {
      "text/plain": [
       "<sdmx.StructureMessage>\n",
       "  <Header>\n",
       "    id: 'IDREF7195'\n",
       "    prepared: '2025-07-28T09:32:05.156573+00:00'\n",
       "    sender: <Agency unknown>\n",
       "    source: \n",
       "    test: False\n",
       "  response: <Response [200]>\n",
       "  DataflowDefinition (65): MCDREO HPD CTOT ISORA_2018_DATA_PUB DIP AFRR...\n",
       "  DataStructureDefinition (57): IMF.MCD:DSD_MCDREO(7.0.0) IMF.FAD:DSD_H..."
      ]
     },
     "execution_count": 4,
     "metadata": {},
     "output_type": "execute_result"
    }
   ],
   "source": [
    "# Checking for the correct Dataset\n",
    "IMF_DATA.dataflow()"
   ]
  },
  {
   "cell_type": "code",
   "execution_count": 5,
   "metadata": {},
   "outputs": [
    {
     "name": "stdout",
     "output_type": "stream",
     "text": [
      "MFS_FMP : Monetary and Financial Statistics (MFS_FMP): Financial Market Prices\n",
      "PCPS : Primary Commodity Price System (PCPS)\n",
      "PPI : Producer Price Index (PPI)\n",
      "CPI : Consumer Price Index (CPI)\n",
      "CTOT : Commodity Terms of Trade (CTOT)\n"
     ]
    }
   ],
   "source": [
    "# Confirming the PCPS_TABLE dataflow exists\n",
    "flows_msg = IMF_DATA.dataflow()\n",
    "\n",
    "flows = flows_msg.dataflow\n",
    "\n",
    "for flow_id, flow in flows.items():\n",
    "    if 'commodity' in flow.name.en.lower() or 'price' in flow.name.en.lower():\n",
    "        print(flow_id, ':', flow.name.en)"
   ]
  },
  {
   "cell_type": "code",
   "execution_count": 6,
   "metadata": {},
   "outputs": [
    {
     "name": "stdout",
     "output_type": "stream",
     "text": [
      "DSD_PCPS\n"
     ]
    }
   ],
   "source": [
    "# Getting the structure ID from the PCPS dataflow\n",
    "pcps_flow = flows_msg.dataflow['PCPS']\n",
    "\n",
    "# Checking the structure reference\n",
    "print(pcps_flow.structure.id)"
   ]
  },
  {
   "cell_type": "code",
   "execution_count": 7,
   "metadata": {},
   "outputs": [
    {
     "name": "stdout",
     "output_type": "stream",
     "text": [
      "Dimensions for PCPS:\n",
      "- COUNTRY\n",
      "- INDICATOR\n",
      "- DATA_TRANSFORMATION\n",
      "- FREQUENCY\n",
      "- TIME_PERIOD\n"
     ]
    }
   ],
   "source": [
    "# Getting the structure message\n",
    "structure_msg = IMF_DATA.get(\n",
    "    resource_type = 'datastructure',\n",
    "    resource_id = 'DSD_PCPS'\n",
    ")\n",
    "\n",
    "# Getting the datastructure\n",
    "dsd = list(structure_msg.structure.values())[0]\n",
    "\n",
    "# Getting the dimensions\n",
    "dims = list(dsd.dimensions)\n",
    "\n",
    "print('Dimensions for PCPS:')\n",
    "for d in dims:\n",
    "    print('-', d.id)"
   ]
  },
  {
   "cell_type": "code",
   "execution_count": 13,
   "metadata": {},
   "outputs": [
    {
     "name": "stdout",
     "output_type": "stream",
     "text": [
      "\n",
      "Codelist: CL_PCPS_INDICATOR\n",
      "POILAPSP : APSP crude oil($/bbl), US dollars per barrel,Unit prices, 2016=100\n",
      "POILBRE : Brent Crude, US dollars per barrel, Unit prices\n",
      "POILDUB : Dubai Crude, US dollars per barrel, Unit prices\n",
      "POILWTI : WTI Crude, US dollars per barrel, Unit prices\n",
      "POPEC : OPEC Basket Crude Oil, US dollars per barrel, Unit prices\n"
     ]
    }
   ],
   "source": [
    "# Grab the actual codelists\n",
    "codelists = structure_msg.codelist\n",
    "\n",
    "# Find the one for INDICATOR\n",
    "for cl_id, cl in codelists.items():\n",
    "    if 'INDICATOR' in cl_id:\n",
    "        print(f\"\\nCodelist: {cl_id}\")\n",
    "        for code in cl:\n",
    "            if 'crude' in code.name.en.lower():\n",
    "                print(code.id, \":\", code.name.en)"
   ]
  },
  {
   "cell_type": "code",
   "execution_count": 15,
   "metadata": {},
   "outputs": [
    {
     "name": "stderr",
     "output_type": "stream",
     "text": [
      "xml.Reader got no structure=… argument for StructureSpecificData\n"
     ]
    },
    {
     "data": {
      "text/plain": [
       "COUNTRY  INDICATOR  DATA_TRANSFORMATION  FREQUENCY  SCALE  TIME_PERIOD\n",
       "G001     POILDUB    INDEX                M          0      2015-M01       112.110691\n",
       "                                                           2015-M02       134.844555\n",
       "                                                           2015-M03       130.978669\n",
       "                                                           2015-M04       140.905896\n",
       "                                                           2015-M05       152.346605\n",
       "Name: value, dtype: float64"
      ]
     },
     "execution_count": 15,
     "metadata": {},
     "output_type": "execute_result"
    }
   ],
   "source": [
    "# Fetching the wheat price data\n",
    "wheat_msg = IMF_DATA.data(\n",
    "    resource_id='PCPS',\n",
    "    key='.POILDUB.INDEX.M',\n",
    "    params={'startPeriod': 2015}\n",
    ")\n",
    "\n",
    "# Creating a pandas DataFrame\n",
    "oil_df = sdmx.to_pandas(wheat_msg)\n",
    "\n",
    "# Preview\n",
    "oil_df.head()"
   ]
  },
  {
   "cell_type": "code",
   "execution_count": 16,
   "metadata": {},
   "outputs": [
    {
     "data": {
      "text/plain": [
       "COUNTRY  INDICATOR  DATA_TRANSFORMATION  FREQUENCY  SCALE  TIME_PERIOD\n",
       "G001     POILDUB    INDEX                M          0      2015-M01       112.110691\n",
       "                                                           2015-M02       134.844555\n",
       "                                                           2015-M03       130.978669\n",
       "                                                           2015-M04       140.905896\n",
       "                                                           2015-M05       152.346605\n",
       "                                                                             ...    \n",
       "                                                           2025-M01       194.850256\n",
       "                                                           2025-M02       184.040392\n",
       "                                                           2025-M03       175.978161\n",
       "                                                           2025-M04       165.154547\n",
       "                                                           2025-M05       153.381516\n",
       "Name: value, Length: 125, dtype: float64"
      ]
     },
     "execution_count": 16,
     "metadata": {},
     "output_type": "execute_result"
    }
   ],
   "source": [
    "oil_df"
   ]
  },
  {
   "cell_type": "code",
   "execution_count": null,
   "metadata": {},
   "outputs": [],
   "source": []
  }
 ],
 "metadata": {
  "kernelspec": {
   "display_name": "learn-env",
   "language": "python",
   "name": "python3"
  },
  "language_info": {
   "codemirror_mode": {
    "name": "ipython",
    "version": 3
   },
   "file_extension": ".py",
   "mimetype": "text/x-python",
   "name": "python",
   "nbconvert_exporter": "python",
   "pygments_lexer": "ipython3",
   "version": "3.12.9"
  }
 },
 "nbformat": 4,
 "nbformat_minor": 2
}
