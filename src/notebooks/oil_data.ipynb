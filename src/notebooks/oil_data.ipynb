{
 "cells": [
  {
   "cell_type": "markdown",
   "metadata": {},
   "source": [
    "# Sourcing the Wheat Price Data\n",
    "In this notebook, we will be sourcing the wheat price data from the IMF api."
   ]
  },
  {
   "cell_type": "code",
   "execution_count": 10,
   "metadata": {},
   "outputs": [],
   "source": [
    "# Importing the necessary libraries\n",
    "import sdmx"
   ]
  },
  {
   "cell_type": "code",
   "execution_count": 11,
   "metadata": {},
   "outputs": [
    {
     "name": "stderr",
     "output_type": "stream",
     "text": [
      "xml.Reader got no structure=… argument for StructureSpecificData\n"
     ]
    },
    {
     "data": {
      "application/vnd.microsoft.datawrangler.viewer.v0+json": {
       "columns": [
        {
         "name": "('COUNTRY', 'INDEX_TYPE', 'COICOP_1999', 'TYPE_OF_TRANSFORMATION', 'FREQUENCY', 'COMMON_REFERENCE_PERIOD', 'OVERLAP', 'SCALE', 'ACCESS_SHARING_LEVEL', 'SECURITY_CLASSIFICATION', 'TIME_PERIOD')",
         "rawType": "object",
         "type": "unknown"
        },
        {
         "name": "value",
         "rawType": "float64",
         "type": "float"
        }
       ],
       "ref": "8bdbe56f-0e9b-49c6-b1ca-5718e50ae800",
       "rows": [
        [
         "('CAN', 'CPI', 'CP01', 'IX', 'M', '2002A', 'OL', '0', 'PUBLIC_OPEN', 'PUB', '2018-M01')",
         "142.6"
        ],
        [
         "('CAN', 'CPI', 'CP01', 'IX', 'M', '2002A', 'OL', '0', 'PUBLIC_OPEN', 'PUB', '2018-M02')",
         "142.3"
        ],
        [
         "('CAN', 'CPI', 'CP01', 'IX', 'M', '2002A', 'OL', '0', 'PUBLIC_OPEN', 'PUB', '2018-M03')",
         "141.3"
        ],
        [
         "('CAN', 'CPI', 'CP01', 'IX', 'M', '2002A', 'OL', '0', 'PUBLIC_OPEN', 'PUB', '2018-M04')",
         "141.9"
        ],
        [
         "('CAN', 'CPI', 'CP01', 'IX', 'M', '2002A', 'OL', '0', 'PUBLIC_OPEN', 'PUB', '2018-M05')",
         "141.4"
        ]
       ],
       "shape": {
        "columns": 1,
        "rows": 5
       }
      },
      "text/plain": [
       "COUNTRY  INDEX_TYPE  COICOP_1999  TYPE_OF_TRANSFORMATION  FREQUENCY  COMMON_REFERENCE_PERIOD  OVERLAP  SCALE  ACCESS_SHARING_LEVEL  SECURITY_CLASSIFICATION  TIME_PERIOD\n",
       "CAN      CPI         CP01         IX                      M          2002A                    OL       0      PUBLIC_OPEN           PUB                      2018-M01       142.6\n",
       "                                                                                                                                                             2018-M02       142.3\n",
       "                                                                                                                                                             2018-M03       141.3\n",
       "                                                                                                                                                             2018-M04       141.9\n",
       "                                                                                                                                                             2018-M05       141.4\n",
       "Name: value, dtype: float64"
      ]
     },
     "execution_count": 11,
     "metadata": {},
     "output_type": "execute_result"
    }
   ],
   "source": [
    "# Retrieving test data\n",
    "IMF_DATA = sdmx.Client('IMF_DATA')\n",
    "data_msg = IMF_DATA.data('CPI', key = 'USA+CAN.CPI.CP01.IX.M', params = {'startPeriod' : 2018})\n",
    "\n",
    "# To pandas\n",
    "cpi_df = sdmx.to_pandas(data_msg)\n",
    "\n",
    "# Preview\n",
    "cpi_df.head()"
   ]
  },
  {
   "cell_type": "code",
   "execution_count": 12,
   "metadata": {},
   "outputs": [
    {
     "data": {
      "text/plain": [
       "<sdmx.StructureMessage>\n",
       "  <Header>\n",
       "    id: 'IDREF5399'\n",
       "    prepared: '2025-07-28T09:30:46.836421+00:00'\n",
       "    sender: <Agency unknown>\n",
       "    source: \n",
       "    test: False\n",
       "  response: <Response [200]>\n",
       "  DataflowDefinition (65): MFS_FMP ANEA IRFCL GFS_COFOG GFS_BS FAS PCPS...\n",
       "  DataStructureDefinition (57): IMF.STA:DSD_FMP(2.0.0) IMF.STA:DSD_ANEA..."
      ]
     },
     "execution_count": 12,
     "metadata": {},
     "output_type": "execute_result"
    }
   ],
   "source": [
    "# Checking for the correct Dataset\n",
    "IMF_DATA.dataflow()"
   ]
  },
  {
   "cell_type": "code",
   "execution_count": 13,
   "metadata": {},
   "outputs": [
    {
     "name": "stdout",
     "output_type": "stream",
     "text": [
      "MFS_FMP : Monetary and Financial Statistics (MFS_FMP): Financial Market Prices\n",
      "PCPS : Primary Commodity Price System (PCPS)\n",
      "PPI : Producer Price Index (PPI)\n",
      "CPI : Consumer Price Index (CPI)\n",
      "CTOT : Commodity Terms of Trade (CTOT)\n"
     ]
    }
   ],
   "source": [
    "# Confirming the PCPS_TABLE dataflow exists\n",
    "flows_msg = IMF_DATA.dataflow()\n",
    "\n",
    "flows = flows_msg.dataflow\n",
    "\n",
    "for flow_id, flow in flows.items():\n",
    "    if 'commodity' in flow.name.en.lower() or 'price' in flow.name.en.lower():\n",
    "        print(flow_id, ':', flow.name.en)"
   ]
  },
  {
   "cell_type": "code",
   "execution_count": 14,
   "metadata": {},
   "outputs": [
    {
     "name": "stdout",
     "output_type": "stream",
     "text": [
      "DSD_PCPS\n"
     ]
    }
   ],
   "source": [
    "# Getting the structure ID from the PCPS dataflow\n",
    "pcps_flow = flows_msg.dataflow['PCPS']\n",
    "\n",
    "# Checking the structure reference\n",
    "print(pcps_flow.structure.id)"
   ]
  },
  {
   "cell_type": "code",
   "execution_count": 15,
   "metadata": {},
   "outputs": [
    {
     "name": "stdout",
     "output_type": "stream",
     "text": [
      "Dimensions for PCPS:\n",
      "- COUNTRY\n",
      "- INDICATOR\n",
      "- DATA_TRANSFORMATION\n",
      "- FREQUENCY\n",
      "- TIME_PERIOD\n"
     ]
    }
   ],
   "source": [
    "# Getting the structure message\n",
    "structure_msg = IMF_DATA.get(\n",
    "    resource_type = 'datastructure',\n",
    "    resource_id = 'DSD_PCPS'\n",
    ")\n",
    "\n",
    "# Getting the datastructure\n",
    "dsd = list(structure_msg.structure.values())[0]\n",
    "\n",
    "# Getting the dimensions\n",
    "dims = list(dsd.dimensions)\n",
    "\n",
    "print('Dimensions for PCPS:')\n",
    "for d in dims:\n",
    "    print('-', d.id)"
   ]
  },
  {
   "cell_type": "code",
   "execution_count": 16,
   "metadata": {},
   "outputs": [
    {
     "name": "stdout",
     "output_type": "stream",
     "text": [
      "\n",
      "Codelist: CL_PCPS_INDICATOR\n",
      "PWHEAMT : Wheat, US dollars per metric tonne, Unit prices\n"
     ]
    }
   ],
   "source": [
    "# Grab the actual codelists\n",
    "codelists = structure_msg.codelist\n",
    "\n",
    "# Find the one for INDICATOR\n",
    "for cl_id, cl in codelists.items():\n",
    "    if 'INDICATOR' in cl_id:\n",
    "        print(f\"\\nCodelist: {cl_id}\")\n",
    "        for code in cl:\n",
    "            if 'wheat' in code.name.en.lower():\n",
    "                print(code.id, \":\", code.name.en)"
   ]
  },
  {
   "cell_type": "code",
   "execution_count": 17,
   "metadata": {},
   "outputs": [
    {
     "name": "stderr",
     "output_type": "stream",
     "text": [
      "xml.Reader got no structure=… argument for StructureSpecificData\n"
     ]
    },
    {
     "data": {
      "application/vnd.microsoft.datawrangler.viewer.v0+json": {
       "columns": [
        {
         "name": "('COUNTRY', 'INDICATOR', 'DATA_TRANSFORMATION', 'FREQUENCY', 'SCALE', 'TIME_PERIOD')",
         "rawType": "object",
         "type": "unknown"
        },
        {
         "name": "value",
         "rawType": "float64",
         "type": "float"
        }
       ],
       "ref": "45cfb3c9-9834-4c0a-8665-f0bf17ebde86",
       "rows": [
        [
         "('G001', 'PWHEAMT', 'INDEX', 'M', '0', '2015-M01')",
         "148.756961650615"
        ],
        [
         "('G001', 'PWHEAMT', 'INDEX', 'M', '0', '2015-M02')",
         "140.88038164719"
        ],
        [
         "('G001', 'PWHEAMT', 'INDEX', 'M', '0', '2015-M03')",
         "141.543336594289"
        ],
        [
         "('G001', 'PWHEAMT', 'INDEX', 'M', '0', '2015-M04')",
         "136.822559523899"
        ],
        [
         "('G001', 'PWHEAMT', 'INDEX', 'M', '0', '2015-M05')",
         "134.926862068091"
        ]
       ],
       "shape": {
        "columns": 1,
        "rows": 5
       }
      },
      "text/plain": [
       "COUNTRY  INDICATOR  DATA_TRANSFORMATION  FREQUENCY  SCALE  TIME_PERIOD\n",
       "G001     PWHEAMT    INDEX                M          0      2015-M01       148.756962\n",
       "                                                           2015-M02       140.880382\n",
       "                                                           2015-M03       141.543337\n",
       "                                                           2015-M04       136.822560\n",
       "                                                           2015-M05       134.926862\n",
       "Name: value, dtype: float64"
      ]
     },
     "execution_count": 17,
     "metadata": {},
     "output_type": "execute_result"
    }
   ],
   "source": [
    "# Fetching the wheat price data\n",
    "wheat_msg = IMF_DATA.data(\n",
    "    resource_id='PCPS',\n",
    "    key='.PWHEAMT.INDEX.M',\n",
    "    params={'startPeriod': 2015}\n",
    ")\n",
    "\n",
    "# Creating a pandas DataFrame\n",
    "wheat_df = sdmx.to_pandas(wheat_msg)\n",
    "\n",
    "# Preview\n",
    "wheat_df.head()"
   ]
  },
  {
   "cell_type": "code",
   "execution_count": 18,
   "metadata": {},
   "outputs": [
    {
     "data": {
      "application/vnd.microsoft.datawrangler.viewer.v0+json": {
       "columns": [
        {
         "name": "('COUNTRY', 'INDICATOR', 'DATA_TRANSFORMATION', 'FREQUENCY', 'SCALE', 'TIME_PERIOD')",
         "rawType": "object",
         "type": "unknown"
        },
        {
         "name": "value",
         "rawType": "float64",
         "type": "float"
        }
       ],
       "ref": "c23ded71-dc08-4099-a6cb-caded17a7e55",
       "rows": [
        [
         "('G001', 'PWHEAMT', 'INDEX', 'M', '0', '2015-M01')",
         "148.756961650615"
        ],
        [
         "('G001', 'PWHEAMT', 'INDEX', 'M', '0', '2015-M02')",
         "140.88038164719"
        ],
        [
         "('G001', 'PWHEAMT', 'INDEX', 'M', '0', '2015-M03')",
         "141.543336594289"
        ],
        [
         "('G001', 'PWHEAMT', 'INDEX', 'M', '0', '2015-M04')",
         "136.822559523899"
        ],
        [
         "('G001', 'PWHEAMT', 'INDEX', 'M', '0', '2015-M05')",
         "134.926862068091"
        ],
        [
         "('G001', 'PWHEAMT', 'INDEX', 'M', '0', '2015-M06')",
         "139.548947128434"
        ],
        [
         "('G001', 'PWHEAMT', 'INDEX', 'M', '0', '2015-M07')",
         "139.117412565646"
        ],
        [
         "('G001', 'PWHEAMT', 'INDEX', 'M', '0', '2015-M08')",
         "121.170684300634"
        ],
        [
         "('G001', 'PWHEAMT', 'INDEX', 'M', '0', '2015-M09')",
         "114.572704112841"
        ],
        [
         "('G001', 'PWHEAMT', 'INDEX', 'M', '0', '2015-M10')",
         "115.537964177352"
        ],
        [
         "('G001', 'PWHEAMT', 'INDEX', 'M', '0', '2015-M11')",
         "110.19784453998"
        ],
        [
         "('G001', 'PWHEAMT', 'INDEX', 'M', '0', '2015-M12')",
         "114.449963909011"
        ],
        [
         "('G001', 'PWHEAMT', 'INDEX', 'M', '0', '2016-M01')",
         "114.951477049548"
        ],
        [
         "('G001', 'PWHEAMT', 'INDEX', 'M', '0', '2016-M02')",
         "111.230949332542"
        ],
        [
         "('G001', 'PWHEAMT', 'INDEX', 'M', '0', '2016-M03')",
         "114.566594871927"
        ],
        [
         "('G001', 'PWHEAMT', 'INDEX', 'M', '0', '2016-M04')",
         "114.096183321501"
        ],
        [
         "('G001', 'PWHEAMT', 'INDEX', 'M', '0', '2016-M05')",
         "110.027428872362"
        ],
        [
         "('G001', 'PWHEAMT', 'INDEX', 'M', '0', '2016-M06')",
         "109.423169407352"
        ],
        [
         "('G001', 'PWHEAMT', 'INDEX', 'M', '0', '2016-M07')",
         "93.3724162909163"
        ],
        [
         "('G001', 'PWHEAMT', 'INDEX', 'M', '0', '2016-M08')",
         "89.3149772184279"
        ],
        [
         "('G001', 'PWHEAMT', 'INDEX', 'M', '0', '2016-M09')",
         "86.06698600521"
        ],
        [
         "('G001', 'PWHEAMT', 'INDEX', 'M', '0', '2016-M10')",
         "85.5849668970462"
        ],
        [
         "('G001', 'PWHEAMT', 'INDEX', 'M', '0', '2016-M11')",
         "85.5788898100312"
        ],
        [
         "('G001', 'PWHEAMT', 'INDEX', 'M', '0', '2016-M12')",
         "85.7859609231374"
        ],
        [
         "('G001', 'PWHEAMT', 'INDEX', 'M', '0', '2017-M01')",
         "95.7715151980888"
        ],
        [
         "('G001', 'PWHEAMT', 'INDEX', 'M', '0', '2017-M02')",
         "102.905340121893"
        ],
        [
         "('G001', 'PWHEAMT', 'INDEX', 'M', '0', '2017-M03')",
         "102.255943190621"
        ],
        [
         "('G001', 'PWHEAMT', 'INDEX', 'M', '0', '2017-M04')",
         "96.6526928152742"
        ],
        [
         "('G001', 'PWHEAMT', 'INDEX', 'M', '0', '2017-M05')",
         "102.262028284338"
        ],
        [
         "('G001', 'PWHEAMT', 'INDEX', 'M', '0', '2017-M06')",
         "109.808051584973"
        ],
        [
         "('G001', 'PWHEAMT', 'INDEX', 'M', '0', '2017-M07')",
         "121.879356246731"
        ],
        [
         "('G001', 'PWHEAMT', 'INDEX', 'M', '0', '2017-M08')",
         "97.1018688120405"
        ],
        [
         "('G001', 'PWHEAMT', 'INDEX', 'M', '0', '2017-M09')",
         "96.6567442066177"
        ],
        [
         "('G001', 'PWHEAMT', 'INDEX', 'M', '0', '2017-M10')",
         "93.117050020685"
        ],
        [
         "('G001', 'PWHEAMT', 'INDEX', 'M', '0', '2017-M11')",
         "96.4001560882035"
        ],
        [
         "('G001', 'PWHEAMT', 'INDEX', 'M', '0', '2017-M12')",
         "102.725053207113"
        ],
        [
         "('G001', 'PWHEAMT', 'INDEX', 'M', '0', '2018-M01')",
         "109.208790589802"
        ],
        [
         "('G001', 'PWHEAMT', 'INDEX', 'M', '0', '2018-M02')",
         "120.312818260623"
        ],
        [
         "('G001', 'PWHEAMT', 'INDEX', 'M', '0', '2018-M03')",
         "126.339102114405"
        ],
        [
         "('G001', 'PWHEAMT', 'INDEX', 'M', '0', '2018-M04')",
         "125.960329177699"
        ],
        [
         "('G001', 'PWHEAMT', 'INDEX', 'M', '0', '2018-M05')",
         "134.56880501194"
        ],
        [
         "('G001', 'PWHEAMT', 'INDEX', 'M', '0', '2018-M06')",
         "134.830946985731"
        ],
        [
         "('G001', 'PWHEAMT', 'INDEX', 'M', '0', '2018-M07')",
         "137.433483615361"
        ],
        [
         "('G001', 'PWHEAMT', 'INDEX', 'M', '0', '2018-M08')",
         "147.549324093296"
        ],
        [
         "('G001', 'PWHEAMT', 'INDEX', 'M', '0', '2018-M09')",
         "133.479840126613"
        ],
        [
         "('G001', 'PWHEAMT', 'INDEX', 'M', '0', '2018-M10')",
         "131.606378553886"
        ],
        [
         "('G001', 'PWHEAMT', 'INDEX', 'M', '0', '2018-M11')",
         "126.781539772222"
        ],
        [
         "('G001', 'PWHEAMT', 'INDEX', 'M', '0', '2018-M12')",
         "131.658214537404"
        ],
        [
         "('G001', 'PWHEAMT', 'INDEX', 'M', '0', '2019-M01')",
         "131.874074383054"
        ],
        [
         "('G001', 'PWHEAMT', 'INDEX', 'M', '0', '2019-M02')",
         "124.242667863703"
        ]
       ],
       "shape": {
        "columns": 1,
        "rows": 125
       }
      },
      "text/plain": [
       "COUNTRY  INDICATOR  DATA_TRANSFORMATION  FREQUENCY  SCALE  TIME_PERIOD\n",
       "G001     PWHEAMT    INDEX                M          0      2015-M01       148.756962\n",
       "                                                           2015-M02       140.880382\n",
       "                                                           2015-M03       141.543337\n",
       "                                                           2015-M04       136.822560\n",
       "                                                           2015-M05       134.926862\n",
       "                                                                             ...    \n",
       "                                                           2025-M01       133.120360\n",
       "                                                           2025-M02       132.752345\n",
       "                                                           2025-M03       125.422716\n",
       "                                                           2025-M04       122.077907\n",
       "                                                           2025-M05       137.457921\n",
       "Name: value, Length: 125, dtype: float64"
      ]
     },
     "execution_count": 18,
     "metadata": {},
     "output_type": "execute_result"
    }
   ],
   "source": [
    "wheat_df"
   ]
  }
 ],
 "metadata": {
  "kernelspec": {
   "display_name": "learn-env",
   "language": "python",
   "name": "python3"
  },
  "language_info": {
   "codemirror_mode": {
    "name": "ipython",
    "version": 3
   },
   "file_extension": ".py",
   "mimetype": "text/x-python",
   "name": "python",
   "nbconvert_exporter": "python",
   "pygments_lexer": "ipython3",
   "version": "3.12.9"
  }
 },
 "nbformat": 4,
 "nbformat_minor": 2
}
