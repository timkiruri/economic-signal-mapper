{
 "cells": [
  {
   "cell_type": "markdown",
   "metadata": {},
   "source": [
    "# Sourcing the Wheat Price Data\n",
    "In this notebook, we will be sourcing the wheat price data from the IMF api."
   ]
  },
  {
   "cell_type": "code",
   "execution_count": 1,
   "metadata": {},
   "outputs": [],
   "source": [
    "# Importing the necessary libraries\n",
    "import sdmx"
   ]
  },
  {
   "cell_type": "code",
   "execution_count": 2,
   "metadata": {},
   "outputs": [
    {
     "name": "stderr",
     "output_type": "stream",
     "text": [
      "xml.Reader got no structure=… argument for StructureSpecificData\n"
     ]
    },
    {
     "data": {
      "text/plain": [
       "COUNTRY  INDEX_TYPE  COICOP_1999  TYPE_OF_TRANSFORMATION  FREQUENCY  COMMON_REFERENCE_PERIOD  OVERLAP  SCALE  ACCESS_SHARING_LEVEL  SECURITY_CLASSIFICATION  TIME_PERIOD\n",
       "CAN      CPI         CP01         IX                      M          2002A                    OL       0      PUBLIC_OPEN           PUB                      2018-M01       142.6\n",
       "                                                                                                                                                             2018-M02       142.3\n",
       "                                                                                                                                                             2018-M03       141.3\n",
       "                                                                                                                                                             2018-M04       141.9\n",
       "                                                                                                                                                             2018-M05       141.4\n",
       "Name: value, dtype: float64"
      ]
     },
     "execution_count": 2,
     "metadata": {},
     "output_type": "execute_result"
    }
   ],
   "source": [
    "# Retrieving test data\n",
    "IMF_DATA = sdmx.Client('IMF_DATA')\n",
    "data_msg = IMF_DATA.data('CPI', key = 'USA+CAN.CPI.CP01.IX.M', params = {'startPeriod' : 2018})\n",
    "\n",
    "# To pandas\n",
    "cpi_df = sdmx.to_pandas(data_msg)\n",
    "\n",
    "# Preview\n",
    "cpi_df.head()"
   ]
  },
  {
   "cell_type": "code",
   "execution_count": 3,
   "metadata": {},
   "outputs": [
    {
     "data": {
      "text/plain": [
       "<sdmx.StructureMessage>\n",
       "  <Header>\n",
       "    id: 'IDREF7533'\n",
       "    prepared: '2025-07-28T09:31:04.029924+00:00'\n",
       "    sender: <Agency unknown>\n",
       "    source: \n",
       "    test: False\n",
       "  response: <Response [200]>\n",
       "  DataflowDefinition (65): MCDREO HPD CTOT ISORA_2018_DATA_PUB DIP AFRR...\n",
       "  DataStructureDefinition (57): IMF.MCD:DSD_MCDREO(7.0.0) IMF.FAD:DSD_H..."
      ]
     },
     "execution_count": 3,
     "metadata": {},
     "output_type": "execute_result"
    }
   ],
   "source": [
    "# Checking for the correct Dataset\n",
    "IMF_DATA.dataflow()"
   ]
  },
  {
   "cell_type": "code",
   "execution_count": 4,
   "metadata": {},
   "outputs": [
    {
     "name": "stdout",
     "output_type": "stream",
     "text": [
      "MFS_FMP : Monetary and Financial Statistics (MFS_FMP): Financial Market Prices\n",
      "PCPS : Primary Commodity Price System (PCPS)\n",
      "CPI : Consumer Price Index (CPI)\n",
      "PPI : Producer Price Index (PPI)\n",
      "CTOT : Commodity Terms of Trade (CTOT)\n"
     ]
    }
   ],
   "source": [
    "# Confirming the PCPS_TABLE dataflow exists\n",
    "flows_msg = IMF_DATA.dataflow()\n",
    "\n",
    "flows = flows_msg.dataflow\n",
    "\n",
    "for flow_id, flow in flows.items():\n",
    "    if 'commodity' in flow.name.en.lower() or 'price' in flow.name.en.lower():\n",
    "        print(flow_id, ':', flow.name.en)"
   ]
  },
  {
   "cell_type": "code",
   "execution_count": 5,
   "metadata": {},
   "outputs": [
    {
     "name": "stdout",
     "output_type": "stream",
     "text": [
      "DSD_PCPS\n"
     ]
    }
   ],
   "source": [
    "# Getting the structure ID from the PCPS dataflow\n",
    "pcps_flow = flows_msg.dataflow['PCPS']\n",
    "\n",
    "# Checking the structure reference\n",
    "print(pcps_flow.structure.id)"
   ]
  },
  {
   "cell_type": "code",
   "execution_count": 6,
   "metadata": {},
   "outputs": [
    {
     "name": "stdout",
     "output_type": "stream",
     "text": [
      "Dimensions for PCPS:\n",
      "- COUNTRY\n",
      "- INDICATOR\n",
      "- DATA_TRANSFORMATION\n",
      "- FREQUENCY\n",
      "- TIME_PERIOD\n"
     ]
    }
   ],
   "source": [
    "# Getting the structure message\n",
    "structure_msg = IMF_DATA.get(\n",
    "    resource_type = 'datastructure',\n",
    "    resource_id = 'DSD_PCPS'\n",
    ")\n",
    "\n",
    "# Getting the datastructure\n",
    "dsd = list(structure_msg.structure.values())[0]\n",
    "\n",
    "# Getting the dimensions\n",
    "dims = list(dsd.dimensions)\n",
    "\n",
    "print('Dimensions for PCPS:')\n",
    "for d in dims:\n",
    "    print('-', d.id)"
   ]
  },
  {
   "cell_type": "code",
   "execution_count": 7,
   "metadata": {},
   "outputs": [
    {
     "name": "stdout",
     "output_type": "stream",
     "text": [
      "\n",
      "Codelist: CL_PCPS_INDICATOR\n",
      "PWHEAMT : Wheat, US dollars per metric tonne, Unit prices\n"
     ]
    }
   ],
   "source": [
    "# Grab the actual codelists\n",
    "codelists = structure_msg.codelist\n",
    "\n",
    "# Find the one for INDICATOR\n",
    "for cl_id, cl in codelists.items():\n",
    "    if 'INDICATOR' in cl_id:\n",
    "        print(f\"\\nCodelist: {cl_id}\")\n",
    "        for code in cl:\n",
    "            if 'wheat' in code.name.en.lower():\n",
    "                print(code.id, \":\", code.name.en)"
   ]
  },
  {
   "cell_type": "code",
   "execution_count": 8,
   "metadata": {},
   "outputs": [
    {
     "name": "stderr",
     "output_type": "stream",
     "text": [
      "xml.Reader got no structure=… argument for StructureSpecificData\n"
     ]
    },
    {
     "data": {
      "text/plain": [
       "COUNTRY  INDICATOR  DATA_TRANSFORMATION  FREQUENCY  SCALE  TIME_PERIOD\n",
       "G001     PWHEAMT    INDEX                M          0      2015-M01       148.756962\n",
       "                                                           2015-M02       140.880382\n",
       "                                                           2015-M03       141.543337\n",
       "                                                           2015-M04       136.822560\n",
       "                                                           2015-M05       134.926862\n",
       "Name: value, dtype: float64"
      ]
     },
     "execution_count": 8,
     "metadata": {},
     "output_type": "execute_result"
    }
   ],
   "source": [
    "# Fetching the wheat price data\n",
    "wheat_msg = IMF_DATA.data(\n",
    "    resource_id='PCPS',\n",
    "    key='.PWHEAMT.INDEX.M',\n",
    "    params={'startPeriod': 2015}\n",
    ")\n",
    "\n",
    "# Creating a pandas DataFrame\n",
    "wheat_df = sdmx.to_pandas(wheat_msg)\n",
    "\n",
    "# Preview\n",
    "wheat_df.head()"
   ]
  },
  {
   "cell_type": "code",
   "execution_count": 9,
   "metadata": {},
   "outputs": [
    {
     "data": {
      "text/plain": [
       "COUNTRY  INDICATOR  DATA_TRANSFORMATION  FREQUENCY  SCALE  TIME_PERIOD\n",
       "G001     PWHEAMT    INDEX                M          0      2015-M01       148.756962\n",
       "                                                           2015-M02       140.880382\n",
       "                                                           2015-M03       141.543337\n",
       "                                                           2015-M04       136.822560\n",
       "                                                           2015-M05       134.926862\n",
       "                                                                             ...    \n",
       "                                                           2025-M01       133.120360\n",
       "                                                           2025-M02       132.752345\n",
       "                                                           2025-M03       125.422716\n",
       "                                                           2025-M04       122.077907\n",
       "                                                           2025-M05       137.457921\n",
       "Name: value, Length: 125, dtype: float64"
      ]
     },
     "execution_count": 9,
     "metadata": {},
     "output_type": "execute_result"
    }
   ],
   "source": [
    "wheat_df"
   ]
  },
  {
   "cell_type": "code",
   "execution_count": null,
   "metadata": {},
   "outputs": [],
   "source": []
  }
 ],
 "metadata": {
  "kernelspec": {
   "display_name": "learn-env",
   "language": "python",
   "name": "python3"
  },
  "language_info": {
   "codemirror_mode": {
    "name": "ipython",
    "version": 3
   },
   "file_extension": ".py",
   "mimetype": "text/x-python",
   "name": "python",
   "nbconvert_exporter": "python",
   "pygments_lexer": "ipython3",
   "version": "3.12.9"
  }
 },
 "nbformat": 4,
 "nbformat_minor": 2
}
