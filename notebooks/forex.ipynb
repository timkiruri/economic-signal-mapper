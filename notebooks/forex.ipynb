{
 "cells": [
  {
   "cell_type": "markdown",
   "metadata": {},
   "source": [
    "# FOREX Rates"
   ]
  },
  {
   "cell_type": "code",
   "execution_count": 1,
   "metadata": {},
   "outputs": [],
   "source": [
    "# Importing relevant libraries\n",
    "import pandas as pd\n",
    "import yfinance as yf\n",
    "from datetime import datetime"
   ]
  },
  {
   "cell_type": "code",
   "execution_count": 11,
   "metadata": {},
   "outputs": [],
   "source": [
    "# KES/USD Conversion\n",
    "def get_kes_usd_quick():\n",
    "    \"\"\"\n",
    "    Quick method to get KES/USD exchange rate data from Yahoo Finance\n",
    "    \"\"\"\n",
    "    try:\n",
    "        # Create ticker object for KES/USD\n",
    "        ticker = yf.Ticker(\"KESUSD=X\")\n",
    "        \n",
    "        # Get historical data from 2015 to present\n",
    "        df = ticker.history(\n",
    "            start = \"2015-01-01\", \n",
    "            end = datetime.now().strftime('%Y-%m-%d'),\n",
    "            interval = \"1d\"\n",
    "        )\n",
    "        \n",
    "        # Clean up the data\n",
    "        df = df.reset_index()\n",
    "        df = df[['Date', 'Close']].copy()\n",
    "        df.columns = ['Date', 'KES_USD_Rate']\n",
    "        \n",
    "        # Remove any missing values\n",
    "        df = df.dropna()\n",
    "        \n",
    "        print(f\"Successfully retrieved {len(df)} data points\")\n",
    "        print(f\"Date range: {df['Date'].min().date()} to {df['Date'].max().date()}\")\n",
    "        \n",
    "        return df\n",
    "        \n",
    "    except Exception as e:\n",
    "        print(f\"Error retrieving data: {e}\")\n",
    "        return None"
   ]
  },
  {
   "cell_type": "code",
   "execution_count": 18,
   "metadata": {},
   "outputs": [
    {
     "name": "stdout",
     "output_type": "stream",
     "text": [
      "Direct KES/USD\n",
      "Successfully retrieved 2754 data points\n",
      "Date range: 2015-01-01 to 2025-07-28\n"
     ]
    }
   ],
   "source": [
    "# Running the kes/usd function\n",
    "print(\"Direct KES/USD\")\n",
    "kes_usd_df = get_kes_usd_quick()"
   ]
  },
  {
   "cell_type": "code",
   "execution_count": 19,
   "metadata": {},
   "outputs": [
    {
     "data": {
      "text/html": [
       "<div>\n",
       "<style scoped>\n",
       "    .dataframe tbody tr th:only-of-type {\n",
       "        vertical-align: middle;\n",
       "    }\n",
       "\n",
       "    .dataframe tbody tr th {\n",
       "        vertical-align: top;\n",
       "    }\n",
       "\n",
       "    .dataframe thead th {\n",
       "        text-align: right;\n",
       "    }\n",
       "</style>\n",
       "<table border=\"1\" class=\"dataframe\">\n",
       "  <thead>\n",
       "    <tr style=\"text-align: right;\">\n",
       "      <th></th>\n",
       "      <th>Date</th>\n",
       "      <th>KES_USD_Rate</th>\n",
       "    </tr>\n",
       "  </thead>\n",
       "  <tbody>\n",
       "    <tr>\n",
       "      <th>0</th>\n",
       "      <td>2015-01-01 00:00:00+00:00</td>\n",
       "      <td>0.011050</td>\n",
       "    </tr>\n",
       "    <tr>\n",
       "      <th>1</th>\n",
       "      <td>2015-01-02 00:00:00+00:00</td>\n",
       "      <td>0.011019</td>\n",
       "    </tr>\n",
       "    <tr>\n",
       "      <th>2</th>\n",
       "      <td>2015-01-05 00:00:00+00:00</td>\n",
       "      <td>0.011019</td>\n",
       "    </tr>\n",
       "    <tr>\n",
       "      <th>3</th>\n",
       "      <td>2015-01-06 00:00:00+00:00</td>\n",
       "      <td>0.011211</td>\n",
       "    </tr>\n",
       "    <tr>\n",
       "      <th>4</th>\n",
       "      <td>2015-01-07 00:00:00+00:00</td>\n",
       "      <td>0.010979</td>\n",
       "    </tr>\n",
       "    <tr>\n",
       "      <th>...</th>\n",
       "      <td>...</td>\n",
       "      <td>...</td>\n",
       "    </tr>\n",
       "    <tr>\n",
       "      <th>2749</th>\n",
       "      <td>2025-07-22 00:00:00+01:00</td>\n",
       "      <td>0.007782</td>\n",
       "    </tr>\n",
       "    <tr>\n",
       "      <th>2750</th>\n",
       "      <td>2025-07-23 00:00:00+01:00</td>\n",
       "      <td>0.007782</td>\n",
       "    </tr>\n",
       "    <tr>\n",
       "      <th>2751</th>\n",
       "      <td>2025-07-24 00:00:00+01:00</td>\n",
       "      <td>0.007782</td>\n",
       "    </tr>\n",
       "    <tr>\n",
       "      <th>2752</th>\n",
       "      <td>2025-07-25 00:00:00+01:00</td>\n",
       "      <td>0.007782</td>\n",
       "    </tr>\n",
       "    <tr>\n",
       "      <th>2753</th>\n",
       "      <td>2025-07-28 00:00:00+01:00</td>\n",
       "      <td>0.007814</td>\n",
       "    </tr>\n",
       "  </tbody>\n",
       "</table>\n",
       "<p>2754 rows × 2 columns</p>\n",
       "</div>"
      ],
      "text/plain": [
       "                          Date  KES_USD_Rate\n",
       "0    2015-01-01 00:00:00+00:00      0.011050\n",
       "1    2015-01-02 00:00:00+00:00      0.011019\n",
       "2    2015-01-05 00:00:00+00:00      0.011019\n",
       "3    2015-01-06 00:00:00+00:00      0.011211\n",
       "4    2015-01-07 00:00:00+00:00      0.010979\n",
       "...                        ...           ...\n",
       "2749 2025-07-22 00:00:00+01:00      0.007782\n",
       "2750 2025-07-23 00:00:00+01:00      0.007782\n",
       "2751 2025-07-24 00:00:00+01:00      0.007782\n",
       "2752 2025-07-25 00:00:00+01:00      0.007782\n",
       "2753 2025-07-28 00:00:00+01:00      0.007814\n",
       "\n",
       "[2754 rows x 2 columns]"
      ]
     },
     "execution_count": 19,
     "metadata": {},
     "output_type": "execute_result"
    }
   ],
   "source": [
    "kes_usd_df"
   ]
  },
  {
   "cell_type": "code",
   "execution_count": 16,
   "metadata": {},
   "outputs": [],
   "source": [
    "# KES/EUR Conversion\n",
    "def get_kes_eur():\n",
    "    \"\"\"\n",
    "    Quick method to get KES/EUR exchange rate data from Yahoo Finance\n",
    "    \"\"\"\n",
    "    try:\n",
    "        # Create ticker object for KES/USD\n",
    "        ticker = yf.Ticker(\"KESEUR=X\")\n",
    "        \n",
    "        # Get historical data from 2015 to present\n",
    "        df = ticker.history(\n",
    "            start = \"2015-01-01\", \n",
    "            end = datetime.now().strftime('%Y-%m-%d'),\n",
    "            interval = \"1d\"\n",
    "        )\n",
    "        \n",
    "        # Clean up the data\n",
    "        df = df.reset_index()\n",
    "        df = df[['Date', 'Close']].copy()\n",
    "        df.columns = ['Date', 'KES_EUR_Rate']\n",
    "        \n",
    "        # Remove any missing values\n",
    "        df = df.dropna()\n",
    "        \n",
    "        print(f\"Successfully retrieved {len(df)} data points\")\n",
    "        print(f\"Date range: {df['Date'].min().date()} to {df['Date'].max().date()}\")\n",
    "        \n",
    "        return df\n",
    "        \n",
    "    except Exception as e:\n",
    "        print(f\"Error retrieving data: {e}\")\n",
    "        return None"
   ]
  },
  {
   "cell_type": "code",
   "execution_count": 17,
   "metadata": {},
   "outputs": [
    {
     "name": "stdout",
     "output_type": "stream",
     "text": [
      "Successfully retrieved 0 data points\n",
      "Date range: NaT to NaT\n"
     ]
    },
    {
     "data": {
      "text/html": [
       "<div>\n",
       "<style scoped>\n",
       "    .dataframe tbody tr th:only-of-type {\n",
       "        vertical-align: middle;\n",
       "    }\n",
       "\n",
       "    .dataframe tbody tr th {\n",
       "        vertical-align: top;\n",
       "    }\n",
       "\n",
       "    .dataframe thead th {\n",
       "        text-align: right;\n",
       "    }\n",
       "</style>\n",
       "<table border=\"1\" class=\"dataframe\">\n",
       "  <thead>\n",
       "    <tr style=\"text-align: right;\">\n",
       "      <th></th>\n",
       "      <th>Date</th>\n",
       "      <th>KES_EUR_Rate</th>\n",
       "    </tr>\n",
       "  </thead>\n",
       "  <tbody>\n",
       "  </tbody>\n",
       "</table>\n",
       "</div>"
      ],
      "text/plain": [
       "Empty DataFrame\n",
       "Columns: [Date, KES_EUR_Rate]\n",
       "Index: []"
      ]
     },
     "execution_count": 17,
     "metadata": {},
     "output_type": "execute_result"
    }
   ],
   "source": [
    "get_kes_eur()"
   ]
  },
  {
   "cell_type": "code",
   "execution_count": null,
   "metadata": {},
   "outputs": [],
   "source": []
  }
 ],
 "metadata": {
  "kernelspec": {
   "display_name": "learn-env",
   "language": "python",
   "name": "python3"
  },
  "language_info": {
   "codemirror_mode": {
    "name": "ipython",
    "version": 3
   },
   "file_extension": ".py",
   "mimetype": "text/x-python",
   "name": "python",
   "nbconvert_exporter": "python",
   "pygments_lexer": "ipython3",
   "version": "3.12.9"
  }
 },
 "nbformat": 4,
 "nbformat_minor": 2
}
